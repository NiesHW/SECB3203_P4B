{
  "nbformat": 4,
  "nbformat_minor": 0,
  "metadata": {
    "colab": {
      "provenance": []
    },
    "kernelspec": {
      "name": "python3",
      "display_name": "Python 3"
    },
    "language_info": {
      "name": "python"
    }
  },
  "cells": [
    {
      "cell_type": "code",
      "execution_count": null,
      "metadata": {
        "id": "N5LAfqJfKqUB"
      },
      "outputs": [],
      "source": [
        "from sklearn.model_selection import train_test_split\n",
        "from sklearn.preprocessing import StandardScaler\n",
        "from sklearn.svm import SVC\n",
        "from sklearn.tree import DecisionTreeClassifier\n",
        "from sklearn.metrics import accuracy_score, confusion_matrix, classification_report\n",
        "from sklearn import metrics\n",
        "from sklearn.feature_selection import SelectKBest\n",
        "from sklearn.feature_selection import f_classif"
      ]
    },
    {
      "cell_type": "code",
      "source": [
        "from google.colab import files\n",
        "\n",
        "files.upload()"
      ],
      "metadata": {
        "colab": {
          "base_uri": "https://localhost:8080/",
          "height": 128
        },
        "id": "e-2xoADrTZMl",
        "outputId": "d862d78d-993e-4953-f4d9-dda6752d12fd"
      },
      "execution_count": null,
      "outputs": [
        {
          "output_type": "display_data",
          "data": {
            "text/plain": [
              "<IPython.core.display.HTML object>"
            ],
            "text/html": [
              "\n",
              "     <input type=\"file\" id=\"files-2d008885-7562-4181-8754-0cc5a54d47a0\" name=\"files[]\" multiple disabled\n",
              "        style=\"border:none\" />\n",
              "     <output id=\"result-2d008885-7562-4181-8754-0cc5a54d47a0\">\n",
              "      Upload widget is only available when the cell has been executed in the\n",
              "      current browser session. Please rerun this cell to enable.\n",
              "      </output>\n",
              "      <script>// Copyright 2017 Google LLC\n",
              "//\n",
              "// Licensed under the Apache License, Version 2.0 (the \"License\");\n",
              "// you may not use this file except in compliance with the License.\n",
              "// You may obtain a copy of the License at\n",
              "//\n",
              "//      http://www.apache.org/licenses/LICENSE-2.0\n",
              "//\n",
              "// Unless required by applicable law or agreed to in writing, software\n",
              "// distributed under the License is distributed on an \"AS IS\" BASIS,\n",
              "// WITHOUT WARRANTIES OR CONDITIONS OF ANY KIND, either express or implied.\n",
              "// See the License for the specific language governing permissions and\n",
              "// limitations under the License.\n",
              "\n",
              "/**\n",
              " * @fileoverview Helpers for google.colab Python module.\n",
              " */\n",
              "(function(scope) {\n",
              "function span(text, styleAttributes = {}) {\n",
              "  const element = document.createElement('span');\n",
              "  element.textContent = text;\n",
              "  for (const key of Object.keys(styleAttributes)) {\n",
              "    element.style[key] = styleAttributes[key];\n",
              "  }\n",
              "  return element;\n",
              "}\n",
              "\n",
              "// Max number of bytes which will be uploaded at a time.\n",
              "const MAX_PAYLOAD_SIZE = 100 * 1024;\n",
              "\n",
              "function _uploadFiles(inputId, outputId) {\n",
              "  const steps = uploadFilesStep(inputId, outputId);\n",
              "  const outputElement = document.getElementById(outputId);\n",
              "  // Cache steps on the outputElement to make it available for the next call\n",
              "  // to uploadFilesContinue from Python.\n",
              "  outputElement.steps = steps;\n",
              "\n",
              "  return _uploadFilesContinue(outputId);\n",
              "}\n",
              "\n",
              "// This is roughly an async generator (not supported in the browser yet),\n",
              "// where there are multiple asynchronous steps and the Python side is going\n",
              "// to poll for completion of each step.\n",
              "// This uses a Promise to block the python side on completion of each step,\n",
              "// then passes the result of the previous step as the input to the next step.\n",
              "function _uploadFilesContinue(outputId) {\n",
              "  const outputElement = document.getElementById(outputId);\n",
              "  const steps = outputElement.steps;\n",
              "\n",
              "  const next = steps.next(outputElement.lastPromiseValue);\n",
              "  return Promise.resolve(next.value.promise).then((value) => {\n",
              "    // Cache the last promise value to make it available to the next\n",
              "    // step of the generator.\n",
              "    outputElement.lastPromiseValue = value;\n",
              "    return next.value.response;\n",
              "  });\n",
              "}\n",
              "\n",
              "/**\n",
              " * Generator function which is called between each async step of the upload\n",
              " * process.\n",
              " * @param {string} inputId Element ID of the input file picker element.\n",
              " * @param {string} outputId Element ID of the output display.\n",
              " * @return {!Iterable<!Object>} Iterable of next steps.\n",
              " */\n",
              "function* uploadFilesStep(inputId, outputId) {\n",
              "  const inputElement = document.getElementById(inputId);\n",
              "  inputElement.disabled = false;\n",
              "\n",
              "  const outputElement = document.getElementById(outputId);\n",
              "  outputElement.innerHTML = '';\n",
              "\n",
              "  const pickedPromise = new Promise((resolve) => {\n",
              "    inputElement.addEventListener('change', (e) => {\n",
              "      resolve(e.target.files);\n",
              "    });\n",
              "  });\n",
              "\n",
              "  const cancel = document.createElement('button');\n",
              "  inputElement.parentElement.appendChild(cancel);\n",
              "  cancel.textContent = 'Cancel upload';\n",
              "  const cancelPromise = new Promise((resolve) => {\n",
              "    cancel.onclick = () => {\n",
              "      resolve(null);\n",
              "    };\n",
              "  });\n",
              "\n",
              "  // Wait for the user to pick the files.\n",
              "  const files = yield {\n",
              "    promise: Promise.race([pickedPromise, cancelPromise]),\n",
              "    response: {\n",
              "      action: 'starting',\n",
              "    }\n",
              "  };\n",
              "\n",
              "  cancel.remove();\n",
              "\n",
              "  // Disable the input element since further picks are not allowed.\n",
              "  inputElement.disabled = true;\n",
              "\n",
              "  if (!files) {\n",
              "    return {\n",
              "      response: {\n",
              "        action: 'complete',\n",
              "      }\n",
              "    };\n",
              "  }\n",
              "\n",
              "  for (const file of files) {\n",
              "    const li = document.createElement('li');\n",
              "    li.append(span(file.name, {fontWeight: 'bold'}));\n",
              "    li.append(span(\n",
              "        `(${file.type || 'n/a'}) - ${file.size} bytes, ` +\n",
              "        `last modified: ${\n",
              "            file.lastModifiedDate ? file.lastModifiedDate.toLocaleDateString() :\n",
              "                                    'n/a'} - `));\n",
              "    const percent = span('0% done');\n",
              "    li.appendChild(percent);\n",
              "\n",
              "    outputElement.appendChild(li);\n",
              "\n",
              "    const fileDataPromise = new Promise((resolve) => {\n",
              "      const reader = new FileReader();\n",
              "      reader.onload = (e) => {\n",
              "        resolve(e.target.result);\n",
              "      };\n",
              "      reader.readAsArrayBuffer(file);\n",
              "    });\n",
              "    // Wait for the data to be ready.\n",
              "    let fileData = yield {\n",
              "      promise: fileDataPromise,\n",
              "      response: {\n",
              "        action: 'continue',\n",
              "      }\n",
              "    };\n",
              "\n",
              "    // Use a chunked sending to avoid message size limits. See b/62115660.\n",
              "    let position = 0;\n",
              "    do {\n",
              "      const length = Math.min(fileData.byteLength - position, MAX_PAYLOAD_SIZE);\n",
              "      const chunk = new Uint8Array(fileData, position, length);\n",
              "      position += length;\n",
              "\n",
              "      const base64 = btoa(String.fromCharCode.apply(null, chunk));\n",
              "      yield {\n",
              "        response: {\n",
              "          action: 'append',\n",
              "          file: file.name,\n",
              "          data: base64,\n",
              "        },\n",
              "      };\n",
              "\n",
              "      let percentDone = fileData.byteLength === 0 ?\n",
              "          100 :\n",
              "          Math.round((position / fileData.byteLength) * 100);\n",
              "      percent.textContent = `${percentDone}% done`;\n",
              "\n",
              "    } while (position < fileData.byteLength);\n",
              "  }\n",
              "\n",
              "  // All done.\n",
              "  yield {\n",
              "    response: {\n",
              "      action: 'complete',\n",
              "    }\n",
              "  };\n",
              "}\n",
              "\n",
              "scope.google = scope.google || {};\n",
              "scope.google.colab = scope.google.colab || {};\n",
              "scope.google.colab._files = {\n",
              "  _uploadFiles,\n",
              "  _uploadFilesContinue,\n",
              "};\n",
              "})(self);\n",
              "</script> "
            ]
          },
          "metadata": {}
        },
        {
          "output_type": "stream",
          "name": "stdout",
          "text": [
            "Saving Prostate_Cancer (1).csv to Prostate_Cancer (1).csv\n"
          ]
        },
        {
          "output_type": "execute_result",
          "data": {
            "text/plain": [
              "{'Prostate_Cancer (1).csv': b'id,diagnosis_result,radius,texture,perimeter,area,smoothness,compactness,symmetry,fractal_dimension\\r\\n1,M,23,12,151,954,0.143,0.278,0.242,0.079\\r\\n2,B,9,13,133,1326,0.143,0.079,0.181,0.057\\r\\n3,M,21,27,130,1203,0.125,0.16,0.207,0.06\\r\\n4,M,14,16,78,386,0.07,0.284,0.26,0.097\\r\\n5,M,9,19,135,1297,0.141,0.133,0.181,0.059\\r\\n6,B,25,25,83,477,0.128,0.17,0.209,0.076\\r\\n7,M,16,26,120,1040,0.095,0.109,0.179,0.057\\r\\n8,M,15,18,90,578,0.119,0.165,0.22,0.075\\r\\n9,M,19,24,88,520,0.127,0.193,0.235,0.074\\r\\n10,M,25,11,84,476,0.119,0.24,0.203,0.082\\r\\n11,M,24,21,103,798,0.082,0.067,0.153,0.057\\r\\n12,M,17,15,104,781,0.097,0.129,0.184,0.061\\r\\n13,B,14,15,132,1123,0.097,0.246,0.24,0.078\\r\\n14,M,12,22,104,783,0.084,0.1,0.185,0.053\\r\\n15,M,12,13,94,578,0.113,0.229,0.207,0.077\\r\\n16,M,22,19,97,659,0.114,0.16,0.23,0.071\\r\\n17,M,10,16,95,685,0.099,0.072,0.159,0.059\\r\\n18,M,15,14,108,799,0.117,0.202,0.216,0.074\\r\\n19,M,20,14,130,1260,0.098,0.103,0.158,0.054\\r\\n20,B,17,11,87,566,0.098,0.081,0.189,0.058\\r\\n21,B,16,14,86,520,0.108,0.127,0.197,0.068\\r\\n22,B,17,24,60,274,0.102,0.065,0.182,0.069\\r\\n23,M,20,27,103,704,0.107,0.214,0.252,0.07\\r\\n24,M,19,12,137,1404,0.094,0.102,0.177,0.053\\r\\n25,M,9,13,110,905,0.112,0.146,0.2,0.063\\r\\n26,M,19,27,116,913,0.119,0.228,0.304,0.074\\r\\n27,M,10,24,97,645,0.105,0.187,0.225,0.069\\r\\n28,M,16,24,122,1094,0.094,0.107,0.17,0.057\\r\\n29,M,15,15,102,732,0.108,0.17,0.193,0.065\\r\\n30,M,11,16,115,955,0.098,0.116,0.174,0.061\\r\\n31,M,11,22,125,1088,0.106,0.189,0.218,0.062\\r\\n32,M,23,26,78,441,0.111,0.152,0.23,0.078\\r\\n33,M,20,18,113,899,0.12,0.15,0.225,0.064\\r\\n34,M,11,21,128,1162,0.094,0.172,0.185,0.063\\r\\n35,M,16,23,107,807,0.104,0.156,0.2,0.065\\r\\n36,M,10,13,110,870,0.096,0.134,0.19,0.057\\r\\n37,M,18,12,94,633,0.098,0.11,0.189,0.061\\r\\n38,B,21,11,83,524,0.09,0.038,0.147,0.059\\r\\n39,M,11,15,96,699,0.094,0.051,0.157,0.055\\r\\n40,M,10,14,88,559,0.102,0.126,0.172,0.064\\r\\n41,M,24,16,86,563,0.082,0.06,0.178,0.056\\r\\n42,M,19,27,72,371,0.123,0.122,0.19,0.069\\r\\n43,M,11,11,128,1104,0.091,0.219,0.231,0.063\\r\\n44,M,15,21,87,545,0.104,0.144,0.197,0.068\\r\\n45,M,10,15,85,532,0.097,0.105,0.175,0.062\\r\\n46,M,18,11,124,1076,0.11,0.169,0.191,0.06\\r\\n47,B,22,12,52,202,0.086,0.059,0.177,0.065\\r\\n48,M,20,14,86,535,0.116,0.123,0.213,0.068\\r\\n49,B,20,21,78,449,0.103,0.091,0.168,0.06\\r\\n50,B,25,11,87,561,0.088,0.077,0.181,0.057\\r\\n51,B,19,25,75,428,0.086,0.05,0.15,0.059\\r\\n52,B,19,22,87,572,0.077,0.061,0.135,0.06\\r\\n53,B,25,15,76,438,0.083,0.048,0.187,0.061\\r\\n54,M,14,26,120,1033,0.115,0.149,0.209,0.063\\r\\n55,M,18,25,97,713,0.091,0.071,0.162,0.057\\r\\n56,B,18,13,73,409,0.095,0.055,0.192,0.059\\r\\n57,M,10,19,126,1152,0.105,0.127,0.192,0.06\\r\\n58,M,17,20,96,657,0.114,0.137,0.203,0.068\\r\\n59,B,22,15,83,527,0.081,0.038,0.182,0.055\\r\\n60,B,23,26,54,225,0.098,0.053,0.168,0.072\\r\\n61,B,15,18,65,312,0.113,0.081,0.274,0.07\\r\\n62,B,25,15,55,222,0.124,0.09,0.183,0.068\\r\\n63,M,12,22,96,646,0.105,0.201,0.195,0.073\\r\\n64,B,24,17,59,261,0.077,0.088,0.234,0.07\\r\\n65,M,16,19,83,499,0.112,0.126,0.191,0.066\\r\\n66,M,11,21,97,668,0.117,0.148,0.195,0.067\\r\\n67,B,12,13,60,269,0.104,0.078,0.172,0.069\\r\\n68,B,18,12,72,394,0.081,0.047,0.152,0.057\\r\\n69,B,16,17,59,251,0.107,0.141,0.211,0.08\\r\\n70,B,17,21,81,503,0.098,0.052,0.159,0.057\\r\\n71,M,21,18,124,1130,0.09,0.103,0.158,0.055\\r\\n72,B,9,26,59,244,0.098,0.153,0.19,0.09\\r\\n73,M,21,12,114,929,0.107,0.183,0.193,0.065\\r\\n74,M,22,25,90,584,0.101,0.128,0.166,0.066\\r\\n75,B,18,13,79,471,0.092,0.068,0.172,0.059\\r\\n76,M,21,18,104,818,0.092,0.084,0.18,0.054\\r\\n77,B,10,17,88,559,0.129,0.105,0.24,0.066\\r\\n78,M,11,21,120,1006,0.107,0.215,0.215,0.067\\r\\n79,M,16,18,144,1245,0.129,0.345,0.291,0.081\\r\\n80,B,22,16,83,506,0.099,0.095,0.172,0.06\\r\\n81,B,10,18,74,402,0.11,0.094,0.184,0.07\\r\\n82,B,17,21,86,520,0.108,0.154,0.194,0.069\\r\\n83,M,10,15,172,1878,0.106,0.267,0.183,0.068\\r\\n84,M,20,14,129,1132,0.122,0.179,0.163,0.072\\r\\n85,B,25,21,77,443,0.097,0.072,0.208,0.06\\r\\n86,M,14,13,121,1075,0.099,0.105,0.213,0.06\\r\\n87,M,19,26,94,648,0.094,0.099,0.208,0.056\\r\\n88,M,19,11,122,1076,0.09,0.121,0.195,0.056\\r\\n89,B,11,11,80,466,0.088,0.094,0.193,0.064\\r\\n90,B,12,23,96,652,0.113,0.134,0.212,0.063\\r\\n91,B,23,27,95,663,0.09,0.086,0.169,0.059\\r\\n92,M,10,12,100,728,0.092,0.104,0.172,0.061\\r\\n93,B,14,14,85,552,0.074,0.051,0.139,0.053\\r\\n94,B,10,17,87,555,0.102,0.082,0.164,0.057\\r\\n95,M,22,26,100,706,0.104,0.155,0.186,0.063\\r\\n96,M,23,16,132,1264,0.091,0.131,0.21,0.056\\r\\n97,B,22,14,78,451,0.105,0.071,0.19,0.066\\r\\n98,B,19,27,62,295,0.102,0.053,0.135,0.069\\r\\n99,B,21,24,74,413,0.09,0.075,0.162,0.066\\r\\n100,M,16,27,94,643,0.098,0.114,0.188,0.064\\r\\n'}"
            ]
          },
          "metadata": {},
          "execution_count": 6
        }
      ]
    },
    {
      "cell_type": "code",
      "source": [
        "import pandas as pd\n",
        "df=pd.read_csv(\"Prostate_Cancer.csv\")\n",
        "print (df)"
      ],
      "metadata": {
        "colab": {
          "base_uri": "https://localhost:8080/"
        },
        "id": "-0p24ozOTo5U",
        "outputId": "e7604de0-405f-4b71-83c8-d392f385942c"
      },
      "execution_count": null,
      "outputs": [
        {
          "output_type": "stream",
          "name": "stdout",
          "text": [
            "     id diagnosis_result  radius  texture  perimeter  area  smoothness  \\\n",
            "0     1                M      23       12        151   954       0.143   \n",
            "1     2                B       9       13        133  1326       0.143   \n",
            "2     3                M      21       27        130  1203       0.125   \n",
            "3     4                M      14       16         78   386       0.070   \n",
            "4     5                M       9       19        135  1297       0.141   \n",
            "..  ...              ...     ...      ...        ...   ...         ...   \n",
            "95   96                M      23       16        132  1264       0.091   \n",
            "96   97                B      22       14         78   451       0.105   \n",
            "97   98                B      19       27         62   295       0.102   \n",
            "98   99                B      21       24         74   413       0.090   \n",
            "99  100                M      16       27         94   643       0.098   \n",
            "\n",
            "    compactness  symmetry  fractal_dimension  \n",
            "0         0.278     0.242              0.079  \n",
            "1         0.079     0.181              0.057  \n",
            "2         0.160     0.207              0.060  \n",
            "3         0.284     0.260              0.097  \n",
            "4         0.133     0.181              0.059  \n",
            "..          ...       ...                ...  \n",
            "95        0.131     0.210              0.056  \n",
            "96        0.071     0.190              0.066  \n",
            "97        0.053     0.135              0.069  \n",
            "98        0.075     0.162              0.066  \n",
            "99        0.114     0.188              0.064  \n",
            "\n",
            "[100 rows x 10 columns]\n"
          ]
        }
      ]
    },
    {
      "cell_type": "code",
      "source": [
        "x=df.drop('diagnosis_result', axis=1)\n",
        "y=df['diagnosis_result']"
      ],
      "metadata": {
        "id": "bKlLVgDgUDL-"
      },
      "execution_count": null,
      "outputs": []
    },
    {
      "cell_type": "code",
      "source": [
        "X_train,X_test,y_train,y_test=train_test_split(x,y,test_size=0.30,random_state=42)"
      ],
      "metadata": {
        "id": "B0zVF0ySaCoz"
      },
      "execution_count": null,
      "outputs": []
    },
    {
      "cell_type": "code",
      "source": [
        "scaler = StandardScaler()\n",
        "X_train = scaler.fit_transform(X_train)\n",
        "X_test = scaler.transform(X_test)"
      ],
      "metadata": {
        "id": "tIffBTfpaHrM"
      },
      "execution_count": null,
      "outputs": []
    },
    {
      "cell_type": "code",
      "source": [
        "#SVM model\n",
        "clf_svc = SVC(kernel=\"rbf\")\n",
        "clf_svc.fit(X_test, y_test)\n",
        "\n",
        "# Make predictions\n",
        "y_test_pred_svm = clf_svc.predict(X_test)\n",
        "\n",
        "# Confusion matrix and classification report for Test Set\n",
        "conf_matrix_svm = confusion_matrix(y_test, y_test_pred_svm)\n",
        "class_report_svm = classification_report(y_test, y_test_pred_svm)\n",
        "\n",
        "print(\"SVM Confusion Matrix:\")\n",
        "print(conf_matrix_svm)\n",
        "print(\"\\nSVM Classification Report:\")\n",
        "print(class_report_svm)\n",
        "\n",
        "\n"
      ],
      "metadata": {
        "colab": {
          "base_uri": "https://localhost:8080/"
        },
        "id": "whFxUOwTCxRp",
        "outputId": "b91477d3-4bfe-4a3d-86cf-a06ab058ed04"
      },
      "execution_count": null,
      "outputs": [
        {
          "output_type": "stream",
          "name": "stdout",
          "text": [
            "SVM Confusion Matrix:\n",
            "[[ 7  1]\n",
            " [ 0 22]]\n",
            "\n",
            "SVM Classification Report:\n",
            "              precision    recall  f1-score   support\n",
            "\n",
            "           B       1.00      0.88      0.93         8\n",
            "           M       0.96      1.00      0.98        22\n",
            "\n",
            "    accuracy                           0.97        30\n",
            "   macro avg       0.98      0.94      0.96        30\n",
            "weighted avg       0.97      0.97      0.97        30\n",
            "\n"
          ]
        }
      ]
    },
    {
      "cell_type": "code",
      "source": [
        "# Make predictions\n",
        "#SVM model\n",
        "clf_svc = SVC(kernel=\"rbf\")\n",
        "clf_svc.fit(X_train, y_train)\n",
        "y_train_pred_svm = clf_svc.predict(X_train)\n",
        "\n",
        "# Confusion matrix and classification report for Train Set\n",
        "conf_matrix_train_svm = confusion_matrix(y_train, y_train_pred_svm)\n",
        "class_report_train_svm = classification_report(y_train, y_train_pred_svm)\n",
        "\n",
        "print(\"SVM Confusion Matrix:\")\n",
        "print(conf_matrix_train_svm )\n",
        "print(\"\\nSVM Classification Report:\")\n",
        "print(class_report_train_svm)\n"
      ],
      "metadata": {
        "colab": {
          "base_uri": "https://localhost:8080/"
        },
        "id": "YctPos1jbrqe",
        "outputId": "bc6e0b6e-7b39-4d6e-a984-dc15808f7751"
      },
      "execution_count": null,
      "outputs": [
        {
          "output_type": "stream",
          "name": "stdout",
          "text": [
            "SVM Confusion Matrix:\n",
            "[[25  5]\n",
            " [ 0 40]]\n",
            "\n",
            "SVM Classification Report:\n",
            "              precision    recall  f1-score   support\n",
            "\n",
            "           B       1.00      0.83      0.91        30\n",
            "           M       0.89      1.00      0.94        40\n",
            "\n",
            "    accuracy                           0.93        70\n",
            "   macro avg       0.94      0.92      0.93        70\n",
            "weighted avg       0.94      0.93      0.93        70\n",
            "\n"
          ]
        }
      ]
    },
    {
      "cell_type": "code",
      "source": [
        "#Decision Tree Model\n",
        "dt_gini = DecisionTreeClassifier(criterion='gini', max_depth=5, min_samples_leaf=5)\n",
        "\n",
        "# Train a decision tree classifier using Gini impurity\n",
        "dt_gini.fit(X_train, y_train)\n",
        "\n",
        "# Make predictions\n",
        "y_pred_tree = dt_gini.predict(X_train)\n",
        "\n",
        "# Confusion matrix and classification report for Train Set\n",
        "conf_matrix_tree = confusion_matrix(y_train, y_pred_tree)\n",
        "class_report_tree = classification_report(y_train, y_pred_tree)\n",
        "\n",
        "print(\"Decision Tree Confusion Matrix:\")\n",
        "print(conf_matrix_tree)\n",
        "print(\"\\nDecision Tree Classification Report:\")\n",
        "print(class_report_tree)\n"
      ],
      "metadata": {
        "colab": {
          "base_uri": "https://localhost:8080/"
        },
        "id": "uZGKB869JdAY",
        "outputId": "cd9c731b-4e69-4bc1-e4be-82fcfcfb1f4e"
      },
      "execution_count": null,
      "outputs": [
        {
          "output_type": "stream",
          "name": "stdout",
          "text": [
            "Decision Tree Confusion Matrix:\n",
            "[[26  4]\n",
            " [ 2 38]]\n",
            "\n",
            "Decision Tree Classification Report:\n",
            "              precision    recall  f1-score   support\n",
            "\n",
            "           B       0.93      0.87      0.90        30\n",
            "           M       0.90      0.95      0.93        40\n",
            "\n",
            "    accuracy                           0.91        70\n",
            "   macro avg       0.92      0.91      0.91        70\n",
            "weighted avg       0.91      0.91      0.91        70\n",
            "\n"
          ]
        }
      ]
    },
    {
      "cell_type": "code",
      "source": [
        "#Decision Tree Model\n",
        "dt_gini = DecisionTreeClassifier(criterion='gini', max_depth=5, min_samples_leaf=5)\n",
        "\n",
        "# Train a decision tree classifier using Gini impurity\n",
        "dt_gini.fit(X_test, y_test)\n",
        "\n",
        "# Make predictions\n",
        "y_test_tree = dt_gini.predict(X_test)\n",
        "\n",
        "# Confusion matrix and classification report for Test Set\n",
        "conf_matrix_test_tree = confusion_matrix(y_test, y_test_tree)\n",
        "class_report_test_tree = classification_report(y_test, y_test_tree)\n",
        "\n",
        "print(\"Decision Tree Confusion Matrix:\")\n",
        "print(conf_matrix_test_tree)\n",
        "print(\"\\nDecision Tree Classification Report:\")\n",
        "print(class_report_test_tree)\n"
      ],
      "metadata": {
        "colab": {
          "base_uri": "https://localhost:8080/"
        },
        "id": "U52TSzT8kFTl",
        "outputId": "2767a3d1-4442-4d70-f123-9dce7b5091fe"
      },
      "execution_count": null,
      "outputs": [
        {
          "output_type": "stream",
          "name": "stdout",
          "text": [
            "Decision Tree Confusion Matrix:\n",
            "[[ 6  2]\n",
            " [ 2 20]]\n",
            "\n",
            "Decision Tree Classification Report:\n",
            "              precision    recall  f1-score   support\n",
            "\n",
            "           B       0.75      0.75      0.75         8\n",
            "           M       0.91      0.91      0.91        22\n",
            "\n",
            "    accuracy                           0.87        30\n",
            "   macro avg       0.83      0.83      0.83        30\n",
            "weighted avg       0.87      0.87      0.87        30\n",
            "\n"
          ]
        }
      ]
    },
    {
      "cell_type": "code",
      "source": [
        "# Calculate Pearson correlation coefficient\n",
        "correlation_matrix = x.corr()\n",
        "\n",
        "# Select the number of features and create a SelectKBest object\n",
        "num_features_to_select = 2  # You can adjust this number\n",
        "selector = SelectKBest(score_func=f_classif, k=num_features_to_select)\n",
        "\n",
        "# Fit the selector to your data\n",
        "x_selected = selector.fit_transform(x, y)\n",
        "\n",
        "# Get the indices of the selected features\n",
        "selected_feature_indices = selector.get_support(indices=True)\n",
        "\n",
        "# Get the feature names corresponding to the selected indices\n",
        "selected_feature_names = x.columns[selected_feature_indices]\n",
        "\n",
        "# Print the correlation matrix, selected features, and their rankings\n",
        "print(\"Correlation Matrix:\")\n",
        "print(correlation_matrix)\n",
        "\n",
        "print(\"\\nSelected Features:\")\n",
        "print(selected_feature_names)\n",
        "\n",
        "print(\"\\nFeature Ranking:\")\n",
        "print(selector.scores_)\n",
        "\n",
        "# Get features in rank 1 (highest score)\n",
        "rank_1_features = [feature for feature, score in zip(x.columns, selector.scores_) if score == max(selector.scores_)]\n",
        "\n",
        "print(\"\\nFeatures in Rank 1:\")\n",
        "print(rank_1_features)"
      ],
      "metadata": {
        "colab": {
          "base_uri": "https://localhost:8080/"
        },
        "id": "wQ7_Gcq8nVRj",
        "outputId": "13142247-02b0-422d-ee18-144f3ce2fc36"
      },
      "execution_count": null,
      "outputs": [
        {
          "output_type": "stream",
          "name": "stdout",
          "text": [
            "Correlation Matrix:\n",
            "                         id    radius   texture  perimeter      area  \\\n",
            "id                 1.000000  0.047276  0.052263  -0.215953 -0.174354   \n",
            "radius             0.047276  1.000000  0.100245  -0.238216 -0.250934   \n",
            "texture            0.052263  0.100245  1.000000  -0.113453 -0.113725   \n",
            "perimeter         -0.215953 -0.238216 -0.113453   1.000000  0.976648   \n",
            "area              -0.174354 -0.250934 -0.113725   0.976648  1.000000   \n",
            "smoothness        -0.258328 -0.127121  0.102321   0.269442  0.208438   \n",
            "compactness       -0.277554 -0.191490  0.032446   0.527542  0.424950   \n",
            "symmetry          -0.222334 -0.039707  0.077912   0.195539  0.110435   \n",
            "fractal_dimension -0.164946 -0.029120  0.139157  -0.195434 -0.274344   \n",
            "\n",
            "                   smoothness  compactness  symmetry  fractal_dimension  \n",
            "id                  -0.258328    -0.277554 -0.222334          -0.164946  \n",
            "radius              -0.127121    -0.191490 -0.039707          -0.029120  \n",
            "texture              0.102321     0.032446  0.077912           0.139157  \n",
            "perimeter            0.269442     0.527542  0.195539          -0.195434  \n",
            "area                 0.208438     0.424950  0.110435          -0.274344  \n",
            "smoothness           1.000000     0.465723  0.424203           0.369580  \n",
            "compactness          0.465723     1.000000  0.681123           0.647953  \n",
            "symmetry             0.424203     0.681123  1.000000           0.568608  \n",
            "fractal_dimension    0.369580     0.647953  0.568608           1.000000  \n",
            "\n",
            "Selected Features:\n",
            "Index(['perimeter', 'area'], dtype='object')\n",
            "\n",
            "Feature Ranking:\n",
            "[1.09395906e+01 3.16831102e+00 4.92801872e-01 5.73221718e+01\n",
            " 4.53467454e+01 3.98264084e+00 3.48603357e+01 5.62717089e+00\n",
            " 6.55749546e-03]\n",
            "\n",
            "Features in Rank 1:\n",
            "['perimeter']\n"
          ]
        }
      ]
    },
    {
      "cell_type": "code",
      "source": [
        "#predict accuracy score for test set.\n",
        "prediction1 = clf_svc.predict(X_test)\n",
        "prediction2 = dt_gini.predict(X_test)"
      ],
      "metadata": {
        "id": "F8-qJ-rRkmGN"
      },
      "execution_count": null,
      "outputs": []
    },
    {
      "cell_type": "code",
      "source": [
        "clf_svm_acc = accuracy_score(y_test, prediction1)\n",
        "dt_acc = accuracy_score(y_test, prediction2)\n",
        "\n",
        "print(\"Accuracy of SVM model is: \", clf_svm_acc)\n",
        "print(\"Accuracy of Decision Tree Model is: \", dt_acc)\n"
      ],
      "metadata": {
        "colab": {
          "base_uri": "https://localhost:8080/"
        },
        "id": "XvHxVL3_lJB-",
        "outputId": "03896deb-441d-4fd7-b561-1b4bfe83a883"
      },
      "execution_count": null,
      "outputs": [
        {
          "output_type": "stream",
          "name": "stdout",
          "text": [
            "Accuracy of SVM model is:  0.8\n",
            "Accuracy of Decision Tree Model is:  0.8666666666666667\n"
          ]
        }
      ]
    },
    {
      "cell_type": "code",
      "source": [
        "#predict accuracy score for train set.\n",
        "prediction1 = clf_svc.predict(X_train)\n",
        "prediction2 = dt_gini.predict(X_train)\n",
        "\n",
        "clf_train_svm_acc = accuracy_score(y_train, prediction1)\n",
        "dt_train_acc = accuracy_score(y_train, prediction2)\n",
        "\n",
        "print(\"Accuracy of SVM model is: \", clf_svm_acc)\n",
        "print(\"Accuracy of Decision Tree Model is: \", dt_acc)\n"
      ],
      "metadata": {
        "colab": {
          "base_uri": "https://localhost:8080/"
        },
        "id": "SjRE62KulthR",
        "outputId": "d96fe49e-fed9-4ab9-9915-8e285f8a1e42"
      },
      "execution_count": null,
      "outputs": [
        {
          "output_type": "stream",
          "name": "stdout",
          "text": [
            "Accuracy of SVM model is:  0.8\n",
            "Accuracy of Decision Tree Model is:  0.8666666666666667\n"
          ]
        }
      ]
    },
    {
      "cell_type": "code",
      "source": [
        "import matplotlib.pyplot as plt"
      ],
      "metadata": {
        "id": "6yswyrFTOKKO"
      },
      "execution_count": null,
      "outputs": []
    },
    {
      "cell_type": "code",
      "source": [
        "# Define the accuracy scores for each model\n",
        "model_names = [ 'SVM', 'Decision Tree']\n",
        "accuracy_scores = [clf_svm_acc,dt_acc]\n",
        "\n",
        "\n",
        "width = 0.25\n",
        "fig, ax = plt.subplots()\n",
        "# Create a bar plot\n",
        "plt.bar(model_names, accuracy_scores, width, alpha=0.5, color='blue')\n",
        "\n",
        "# Add x-axis and y-axis labels and a title\n",
        "plt.xlabel('Model')\n",
        "plt.ylabel('Accuracy')# rotates labels\n",
        "plt.title('Accuracy Scores for 2 Models')\n",
        "plt.setp( ax.xaxis.get_majorticklabels(), rotation=-45, ha = 'left' )\n",
        "\n",
        "# Display the plot\n",
        "plt.show()\n",
        "\n",
        "#Accuracies\n",
        "print(\"Accuracy of SVM model is: \", clf_svm_acc)\n",
        "print(\"Accuracy of Decision Tree Model is: \", dt_acc)\n"
      ],
      "metadata": {
        "colab": {
          "base_uri": "https://localhost:8080/",
          "height": 568
        },
        "id": "1Se6qF1gNwUj",
        "outputId": "9707f1b1-a5ad-4781-f810-2f7dda8e9000"
      },
      "execution_count": null,
      "outputs": [
        {
          "output_type": "display_data",
          "data": {
            "text/plain": [
              "<Figure size 640x480 with 1 Axes>"
            ],
            "image/png": "[encoded data removed]"
          },
          "metadata": {}
        },
        {
          "output_type": "stream",
          "name": "stdout",
          "text": [
            "Accuracy of SVM model is:  0.8\n",
            "Accuracy of Decision Tree Model is:  0.8666666666666667\n"
          ]
        }
      ]
    },
    {
      "cell_type": "code",
      "source": [
        "from sklearn.metrics import mean_squared_error"
      ],
      "metadata": {
        "id": "76tFmzAqRg7v"
      },
      "execution_count": null,
      "outputs": []
    },
    {
      "cell_type": "code",
      "source": [
        "from sklearn.model_selection import GridSearchCV\n",
        "\n",
        "# Define the parameter grid\n",
        "param_grid = {'C': [0.1, 1, 10], 'kernel': ['linear', 'rbf'], 'gamma': [0.01, 0.1, 1]}\n",
        "\n",
        "# Perform Grid Search to find optimal hyperparameters\n",
        "grid_search = GridSearchCV(SVC(), param_grid, cv=5)\n",
        "grid_search.fit(X_train, y_train)\n",
        "\n",
        "# Get the best parameters\n",
        "best_params = grid_search.best_params_\n",
        "\n",
        "# Print the best parameters\n",
        "print(\"Best Parameters:\", best_params)\n"
      ],
      "metadata": {
        "colab": {
          "base_uri": "https://localhost:8080/"
        },
        "id": "y5u4AWugR2Ev",
        "outputId": "20f1a126-7991-4f9c-c2e4-5482d2a6eaac"
      },
      "execution_count": null,
      "outputs": [
        {
          "output_type": "stream",
          "name": "stdout",
          "text": [
            "Best Parameters: {'C': 1, 'gamma': 0.01, 'kernel': 'rbf'}\n"
          ]
        }
      ]
    },
    {
      "cell_type": "code",
      "source": [
        "from sklearn.model_selection import cross_val_score\n",
        "\n",
        "# Perform cross-validation\n",
        "cv_scores = cross_val_score(clf_svc, x, y, cv=5)\n",
        "print(\"Cross-Validation Scores:\", cv_scores)\n"
      ],
      "metadata": {
        "colab": {
          "base_uri": "https://localhost:8080/"
        },
        "id": "76z5CbMeTTRq",
        "outputId": "b215df43-a968-4ee9-d6f9-28cc806c03be"
      },
      "execution_count": null,
      "outputs": [
        {
          "output_type": "stream",
          "name": "stdout",
          "text": [
            "Cross-Validation Scores: [0.7  0.85 0.75 0.85 0.8 ]\n"
          ]
        }
      ]
    },
    {
      "cell_type": "code",
      "source": [
        "from sklearn.tree import plot_tree\n",
        "import matplotlib.pyplot as plt\n",
        "\n",
        "plt.figure(figsize=(10, 6))\n",
        "plot_tree(dt_gini, filled=True, feature_names=feature_names, class_names=class_names)\n",
        "plt.show()\n"
      ],
      "metadata": {
        "colab": {
          "base_uri": "https://localhost:8080/",
          "height": 262
        },
        "id": "svzc5bCDUbbR",
        "outputId": "6ccec558-d928-447a-f343-1a2596c7f123"
      },
      "execution_count": null,
      "outputs": [
        {
          "output_type": "error",
          "ename": "NameError",
          "evalue": "name 'feature_names' is not defined",
          "traceback": [
            "\u001b[0;31m---------------------------------------------------------------------------\u001b[0m",
            "\u001b[0;31mNameError\u001b[0m                                 Traceback (most recent call last)",
            "\u001b[0;32m<ipython-input-27-8826b92bc530>\u001b[0m in \u001b[0;36m<cell line: 5>\u001b[0;34m()\u001b[0m\n\u001b[1;32m      3\u001b[0m \u001b[0;34m\u001b[0m\u001b[0m\n\u001b[1;32m      4\u001b[0m \u001b[0mplt\u001b[0m\u001b[0;34m.\u001b[0m\u001b[0mfigure\u001b[0m\u001b[0;34m(\u001b[0m\u001b[0mfigsize\u001b[0m\u001b[0;34m=\u001b[0m\u001b[0;34m(\u001b[0m\u001b[0;36m10\u001b[0m\u001b[0;34m,\u001b[0m \u001b[0;36m6\u001b[0m\u001b[0;34m)\u001b[0m\u001b[0;34m)\u001b[0m\u001b[0;34m\u001b[0m\u001b[0;34m\u001b[0m\u001b[0m\n\u001b[0;32m----> 5\u001b[0;31m \u001b[0mplot_tree\u001b[0m\u001b[0;34m(\u001b[0m\u001b[0mdt_gini\u001b[0m\u001b[0;34m,\u001b[0m \u001b[0mfilled\u001b[0m\u001b[0;34m=\u001b[0m\u001b[0;32mTrue\u001b[0m\u001b[0;34m,\u001b[0m \u001b[0mfeature_names\u001b[0m\u001b[0;34m=\u001b[0m\u001b[0mfeature_names\u001b[0m\u001b[0;34m,\u001b[0m \u001b[0mclass_names\u001b[0m\u001b[0;34m=\u001b[0m\u001b[0mclass_names\u001b[0m\u001b[0;34m)\u001b[0m\u001b[0;34m\u001b[0m\u001b[0;34m\u001b[0m\u001b[0m\n\u001b[0m\u001b[1;32m      6\u001b[0m \u001b[0mplt\u001b[0m\u001b[0;34m.\u001b[0m\u001b[0mshow\u001b[0m\u001b[0;34m(\u001b[0m\u001b[0;34m)\u001b[0m\u001b[0;34m\u001b[0m\u001b[0;34m\u001b[0m\u001b[0m\n",
            "\u001b[0;31mNameError\u001b[0m: name 'feature_names' is not defined"
          ]
        },
        {
          "output_type": "display_data",
          "data": {
            "text/plain": [
              "<Figure size 1000x600 with 0 Axes>"
            ]
          },
          "metadata": {}
        }
      ]
    },
    {
      "cell_type": "code",
      "source": [
        "import pandas as pd\n",
        "from sklearn.preprocessing import StandardScaler\n",
        "from sklearn.svm import SVC\n",
        "\n",
        "# Load the dataset (Replace 'your_dataset.csv' with the actual file)\n",
        "from google.colab import files\n",
        "\n",
        "files.upload()\n",
        "\n"
      ],
      "metadata": {
        "colab": {
          "base_uri": "https://localhost:8080/",
          "height": 128
        },
        "id": "Rp3wxsDNuUr4",
        "outputId": "46245447-5950-464b-9d6d-b5c5b2a1fb9b"
      },
      "execution_count": null,
      "outputs": [
        {
          "output_type": "display_data",
          "data": {
            "text/plain": [
              "<IPython.core.display.HTML object>"
            ],
            "text/html": [
              "\n",
              "     <input type=\"file\" id=\"files-1d390e27-daaf-4c1e-bfc2-3899056c8004\" name=\"files[]\" multiple disabled\n",
              "        style=\"border:none\" />\n",
              "     <output id=\"result-1d390e27-daaf-4c1e-bfc2-3899056c8004\">\n",
              "      Upload widget is only available when the cell has been executed in the\n",
              "      current browser session. Please rerun this cell to enable.\n",
              "      </output>\n",
              "      <script>// Copyright 2017 Google LLC\n",
              "//\n",
              "// Licensed under the Apache License, Version 2.0 (the \"License\");\n",
              "// you may not use this file except in compliance with the License.\n",
              "// You may obtain a copy of the License at\n",
              "//\n",
              "//      http://www.apache.org/licenses/LICENSE-2.0\n",
              "//\n",
              "// Unless required by applicable law or agreed to in writing, software\n",
              "// distributed under the License is distributed on an \"AS IS\" BASIS,\n",
              "// WITHOUT WARRANTIES OR CONDITIONS OF ANY KIND, either express or implied.\n",
              "// See the License for the specific language governing permissions and\n",
              "// limitations under the License.\n",
              "\n",
              "/**\n",
              " * @fileoverview Helpers for google.colab Python module.\n",
              " */\n",
              "(function(scope) {\n",
              "function span(text, styleAttributes = {}) {\n",
              "  const element = document.createElement('span');\n",
              "  element.textContent = text;\n",
              "  for (const key of Object.keys(styleAttributes)) {\n",
              "    element.style[key] = styleAttributes[key];\n",
              "  }\n",
              "  return element;\n",
              "}\n",
              "\n",
              "// Max number of bytes which will be uploaded at a time.\n",
              "const MAX_PAYLOAD_SIZE = 100 * 1024;\n",
              "\n",
              "function _uploadFiles(inputId, outputId) {\n",
              "  const steps = uploadFilesStep(inputId, outputId);\n",
              "  const outputElement = document.getElementById(outputId);\n",
              "  // Cache steps on the outputElement to make it available for the next call\n",
              "  // to uploadFilesContinue from Python.\n",
              "  outputElement.steps = steps;\n",
              "\n",
              "  return _uploadFilesContinue(outputId);\n",
              "}\n",
              "\n",
              "// This is roughly an async generator (not supported in the browser yet),\n",
              "// where there are multiple asynchronous steps and the Python side is going\n",
              "// to poll for completion of each step.\n",
              "// This uses a Promise to block the python side on completion of each step,\n",
              "// then passes the result of the previous step as the input to the next step.\n",
              "function _uploadFilesContinue(outputId) {\n",
              "  const outputElement = document.getElementById(outputId);\n",
              "  const steps = outputElement.steps;\n",
              "\n",
              "  const next = steps.next(outputElement.lastPromiseValue);\n",
              "  return Promise.resolve(next.value.promise).then((value) => {\n",
              "    // Cache the last promise value to make it available to the next\n",
              "    // step of the generator.\n",
              "    outputElement.lastPromiseValue = value;\n",
              "    return next.value.response;\n",
              "  });\n",
              "}\n",
              "\n",
              "/**\n",
              " * Generator function which is called between each async step of the upload\n",
              " * process.\n",
              " * @param {string} inputId Element ID of the input file picker element.\n",
              " * @param {string} outputId Element ID of the output display.\n",
              " * @return {!Iterable<!Object>} Iterable of next steps.\n",
              " */\n",
              "function* uploadFilesStep(inputId, outputId) {\n",
              "  const inputElement = document.getElementById(inputId);\n",
              "  inputElement.disabled = false;\n",
              "\n",
              "  const outputElement = document.getElementById(outputId);\n",
              "  outputElement.innerHTML = '';\n",
              "\n",
              "  const pickedPromise = new Promise((resolve) => {\n",
              "    inputElement.addEventListener('change', (e) => {\n",
              "      resolve(e.target.files);\n",
              "    });\n",
              "  });\n",
              "\n",
              "  const cancel = document.createElement('button');\n",
              "  inputElement.parentElement.appendChild(cancel);\n",
              "  cancel.textContent = 'Cancel upload';\n",
              "  const cancelPromise = new Promise((resolve) => {\n",
              "    cancel.onclick = () => {\n",
              "      resolve(null);\n",
              "    };\n",
              "  });\n",
              "\n",
              "  // Wait for the user to pick the files.\n",
              "  const files = yield {\n",
              "    promise: Promise.race([pickedPromise, cancelPromise]),\n",
              "    response: {\n",
              "      action: 'starting',\n",
              "    }\n",
              "  };\n",
              "\n",
              "  cancel.remove();\n",
              "\n",
              "  // Disable the input element since further picks are not allowed.\n",
              "  inputElement.disabled = true;\n",
              "\n",
              "  if (!files) {\n",
              "    return {\n",
              "      response: {\n",
              "        action: 'complete',\n",
              "      }\n",
              "    };\n",
              "  }\n",
              "\n",
              "  for (const file of files) {\n",
              "    const li = document.createElement('li');\n",
              "    li.append(span(file.name, {fontWeight: 'bold'}));\n",
              "    li.append(span(\n",
              "        `(${file.type || 'n/a'}) - ${file.size} bytes, ` +\n",
              "        `last modified: ${\n",
              "            file.lastModifiedDate ? file.lastModifiedDate.toLocaleDateString() :\n",
              "                                    'n/a'} - `));\n",
              "    const percent = span('0% done');\n",
              "    li.appendChild(percent);\n",
              "\n",
              "    outputElement.appendChild(li);\n",
              "\n",
              "    const fileDataPromise = new Promise((resolve) => {\n",
              "      const reader = new FileReader();\n",
              "      reader.onload = (e) => {\n",
              "        resolve(e.target.result);\n",
              "      };\n",
              "      reader.readAsArrayBuffer(file);\n",
              "    });\n",
              "    // Wait for the data to be ready.\n",
              "    let fileData = yield {\n",
              "      promise: fileDataPromise,\n",
              "      response: {\n",
              "        action: 'continue',\n",
              "      }\n",
              "    };\n",
              "\n",
              "    // Use a chunked sending to avoid message size limits. See b/62115660.\n",
              "    let position = 0;\n",
              "    do {\n",
              "      const length = Math.min(fileData.byteLength - position, MAX_PAYLOAD_SIZE);\n",
              "      const chunk = new Uint8Array(fileData, position, length);\n",
              "      position += length;\n",
              "\n",
              "      const base64 = btoa(String.fromCharCode.apply(null, chunk));\n",
              "      yield {\n",
              "        response: {\n",
              "          action: 'append',\n",
              "          file: file.name,\n",
              "          data: base64,\n",
              "        },\n",
              "      };\n",
              "\n",
              "      let percentDone = fileData.byteLength === 0 ?\n",
              "          100 :\n",
              "          Math.round((position / fileData.byteLength) * 100);\n",
              "      percent.textContent = `${percentDone}% done`;\n",
              "\n",
              "    } while (position < fileData.byteLength);\n",
              "  }\n",
              "\n",
              "  // All done.\n",
              "  yield {\n",
              "    response: {\n",
              "      action: 'complete',\n",
              "    }\n",
              "  };\n",
              "}\n",
              "\n",
              "scope.google = scope.google || {};\n",
              "scope.google.colab = scope.google.colab || {};\n",
              "scope.google.colab._files = {\n",
              "  _uploadFiles,\n",
              "  _uploadFilesContinue,\n",
              "};\n",
              "})(self);\n",
              "</script> "
            ]
          },
          "metadata": {}
        },
        {
          "output_type": "stream",
          "name": "stdout",
          "text": [
            "Saving Prostate_Cancer.csv to Prostate_Cancer.csv\n"
          ]
        },
        {
          "output_type": "execute_result",
          "data": {
            "text/plain": [
              "{'Prostate_Cancer.csv': b'id,diagnosis_result,radius,texture,perimeter,area,smoothness,compactness,symmetry,fractal_dimension\\r\\n1,M,23,12,151,954,0.143,0.278,0.242,0.079\\r\\n2,B,9,13,133,1326,0.143,0.079,0.181,0.057\\r\\n3,M,21,27,130,1203,0.125,0.16,0.207,0.06\\r\\n4,M,14,16,78,386,0.07,0.284,0.26,0.097\\r\\n5,M,9,19,135,1297,0.141,0.133,0.181,0.059\\r\\n6,B,25,25,83,477,0.128,0.17,0.209,0.076\\r\\n7,M,16,26,120,1040,0.095,0.109,0.179,0.057\\r\\n8,M,15,18,90,578,0.119,0.165,0.22,0.075\\r\\n9,M,19,24,88,520,0.127,0.193,0.235,0.074\\r\\n10,M,25,11,84,476,0.119,0.24,0.203,0.082\\r\\n11,M,24,21,103,798,0.082,0.067,0.153,0.057\\r\\n12,M,17,15,104,781,0.097,0.129,0.184,0.061\\r\\n13,B,14,15,132,1123,0.097,0.246,0.24,0.078\\r\\n14,M,12,22,104,783,0.084,0.1,0.185,0.053\\r\\n15,M,12,13,94,578,0.113,0.229,0.207,0.077\\r\\n16,M,22,19,97,659,0.114,0.16,0.23,0.071\\r\\n17,M,10,16,95,685,0.099,0.072,0.159,0.059\\r\\n18,M,15,14,108,799,0.117,0.202,0.216,0.074\\r\\n19,M,20,14,130,1260,0.098,0.103,0.158,0.054\\r\\n20,B,17,11,87,566,0.098,0.081,0.189,0.058\\r\\n21,B,16,14,86,520,0.108,0.127,0.197,0.068\\r\\n22,B,17,24,60,274,0.102,0.065,0.182,0.069\\r\\n23,M,20,27,103,704,0.107,0.214,0.252,0.07\\r\\n24,M,19,12,137,1404,0.094,0.102,0.177,0.053\\r\\n25,M,9,13,110,905,0.112,0.146,0.2,0.063\\r\\n26,M,19,27,116,913,0.119,0.228,0.304,0.074\\r\\n27,M,10,24,97,645,0.105,0.187,0.225,0.069\\r\\n28,M,16,24,122,1094,0.094,0.107,0.17,0.057\\r\\n29,M,15,15,102,732,0.108,0.17,0.193,0.065\\r\\n30,M,11,16,115,955,0.098,0.116,0.174,0.061\\r\\n31,M,11,22,125,1088,0.106,0.189,0.218,0.062\\r\\n32,M,23,26,78,441,0.111,0.152,0.23,0.078\\r\\n33,M,20,18,113,899,0.12,0.15,0.225,0.064\\r\\n34,M,11,21,128,1162,0.094,0.172,0.185,0.063\\r\\n35,M,16,23,107,807,0.104,0.156,0.2,0.065\\r\\n36,M,10,13,110,870,0.096,0.134,0.19,0.057\\r\\n37,M,18,12,94,633,0.098,0.11,0.189,0.061\\r\\n38,B,21,11,83,524,0.09,0.038,0.147,0.059\\r\\n39,M,11,15,96,699,0.094,0.051,0.157,0.055\\r\\n40,M,10,14,88,559,0.102,0.126,0.172,0.064\\r\\n41,M,24,16,86,563,0.082,0.06,0.178,0.056\\r\\n42,M,19,27,72,371,0.123,0.122,0.19,0.069\\r\\n43,M,11,11,128,1104,0.091,0.219,0.231,0.063\\r\\n44,M,15,21,87,545,0.104,0.144,0.197,0.068\\r\\n45,M,10,15,85,532,0.097,0.105,0.175,0.062\\r\\n46,M,18,11,124,1076,0.11,0.169,0.191,0.06\\r\\n47,B,22,12,52,202,0.086,0.059,0.177,0.065\\r\\n48,M,20,14,86,535,0.116,0.123,0.213,0.068\\r\\n49,B,20,21,78,449,0.103,0.091,0.168,0.06\\r\\n50,B,25,11,87,561,0.088,0.077,0.181,0.057\\r\\n51,B,19,25,75,428,0.086,0.05,0.15,0.059\\r\\n52,B,19,22,87,572,0.077,0.061,0.135,0.06\\r\\n53,B,25,15,76,438,0.083,0.048,0.187,0.061\\r\\n54,M,14,26,120,1033,0.115,0.149,0.209,0.063\\r\\n55,M,18,25,97,713,0.091,0.071,0.162,0.057\\r\\n56,B,18,13,73,409,0.095,0.055,0.192,0.059\\r\\n57,M,10,19,126,1152,0.105,0.127,0.192,0.06\\r\\n58,M,17,20,96,657,0.114,0.137,0.203,0.068\\r\\n59,B,22,15,83,527,0.081,0.038,0.182,0.055\\r\\n60,B,23,26,54,225,0.098,0.053,0.168,0.072\\r\\n61,B,15,18,65,312,0.113,0.081,0.274,0.07\\r\\n62,B,25,15,55,222,0.124,0.09,0.183,0.068\\r\\n63,M,12,22,96,646,0.105,0.201,0.195,0.073\\r\\n64,B,24,17,59,261,0.077,0.088,0.234,0.07\\r\\n65,M,16,19,83,499,0.112,0.126,0.191,0.066\\r\\n66,M,11,21,97,668,0.117,0.148,0.195,0.067\\r\\n67,B,12,13,60,269,0.104,0.078,0.172,0.069\\r\\n68,B,18,12,72,394,0.081,0.047,0.152,0.057\\r\\n69,B,16,17,59,251,0.107,0.141,0.211,0.08\\r\\n70,B,17,21,81,503,0.098,0.052,0.159,0.057\\r\\n71,M,21,18,124,1130,0.09,0.103,0.158,0.055\\r\\n72,B,9,26,59,244,0.098,0.153,0.19,0.09\\r\\n73,M,21,12,114,929,0.107,0.183,0.193,0.065\\r\\n74,M,22,25,90,584,0.101,0.128,0.166,0.066\\r\\n75,B,18,13,79,471,0.092,0.068,0.172,0.059\\r\\n76,M,21,18,104,818,0.092,0.084,0.18,0.054\\r\\n77,B,10,17,88,559,0.129,0.105,0.24,0.066\\r\\n78,M,11,21,120,1006,0.107,0.215,0.215,0.067\\r\\n79,M,16,18,144,1245,0.129,0.345,0.291,0.081\\r\\n80,B,22,16,83,506,0.099,0.095,0.172,0.06\\r\\n81,B,10,18,74,402,0.11,0.094,0.184,0.07\\r\\n82,B,17,21,86,520,0.108,0.154,0.194,0.069\\r\\n83,M,10,15,172,1878,0.106,0.267,0.183,0.068\\r\\n84,M,20,14,129,1132,0.122,0.179,0.163,0.072\\r\\n85,B,25,21,77,443,0.097,0.072,0.208,0.06\\r\\n86,M,14,13,121,1075,0.099,0.105,0.213,0.06\\r\\n87,M,19,26,94,648,0.094,0.099,0.208,0.056\\r\\n88,M,19,11,122,1076,0.09,0.121,0.195,0.056\\r\\n89,B,11,11,80,466,0.088,0.094,0.193,0.064\\r\\n90,B,12,23,96,652,0.113,0.134,0.212,0.063\\r\\n91,B,23,27,95,663,0.09,0.086,0.169,0.059\\r\\n92,M,10,12,100,728,0.092,0.104,0.172,0.061\\r\\n93,B,14,14,85,552,0.074,0.051,0.139,0.053\\r\\n94,B,10,17,87,555,0.102,0.082,0.164,0.057\\r\\n95,M,22,26,100,706,0.104,0.155,0.186,0.063\\r\\n96,M,23,16,132,1264,0.091,0.131,0.21,0.056\\r\\n97,B,22,14,78,451,0.105,0.071,0.19,0.066\\r\\n98,B,19,27,62,295,0.102,0.053,0.135,0.069\\r\\n99,B,21,24,74,413,0.09,0.075,0.162,0.066\\r\\n100,M,16,27,94,643,0.098,0.114,0.188,0.064\\r\\n'}"
            ]
          },
          "metadata": {},
          "execution_count": 2
        }
      ]
    },
    {
      "cell_type": "code",
      "source": [
        "df = pd.read_csv(\"Prostate_Cancer.csv\")\n",
        "\n",
        "# Extract features and labels\n",
        "X = df.drop('diagnosis_result', axis=1)\n",
        "y = df['diagnosis_result']\n",
        "\n",
        "# Standardize the features\n",
        "scaler = StandardScaler()\n",
        "X_scaled = scaler.fit_transform(X)\n",
        "\n",
        "# Train the SVM model\n",
        "clf_svc = SVC(kernel=\"rbf\")\n",
        "clf_svc.fit(X_scaled, y)\n",
        "\n",
        "# User interface for predictions\n",
        "print(\"Enter the values for the following features:\")\n",
        "features = {}\n",
        "for column in X.columns:\n",
        "    value = float(input(f\"{column}: \"))\n",
        "    features[column] = value\n",
        "\n",
        "# Create a DataFrame with user input\n",
        "user_data = pd.DataFrame([features])\n",
        "\n",
        "# Standardize user input\n",
        "user_data_scaled = scaler.transform(user_data)\n",
        "\n",
        "# Make predictions\n",
        "prediction = clf_svc.predict(user_data_scaled)[0]\n",
        "\n",
        "# Map the prediction to 'M' (malignant) or 'B' (benign)\n",
        "result_mapping = {'M': 'malignant', 'B': 'benign'}\n",
        "predicted_diagnosis = result_mapping[prediction]\n",
        "\n",
        "# Display the prediction\n",
        "print(f\"The predicted diagnosis result is: {predicted_diagnosis}\")"
      ],
      "metadata": {
        "colab": {
          "base_uri": "https://localhost:8080/"
        },
        "id": "1pWA8PlLuh1m",
        "outputId": "48dde658-a25f-43ed-c2b8-1ad807549222"
      },
      "execution_count": null,
      "outputs": [
        {
          "output_type": "stream",
          "name": "stdout",
          "text": [
            "Enter the values for the following features:\n",
            "id: 3\n",
            "radius: 12\n",
            "texture: 2\n",
            "perimeter: 12\n",
            "area: 12\n",
            "smoothness: 12\n",
            "compactness: 12\n",
            "symmetry: 23\n",
            "fractal_dimension: 24\n",
            "The predicted diagnosis result is: malignant\n"
          ]
        }
      ]
    }
  ]
}